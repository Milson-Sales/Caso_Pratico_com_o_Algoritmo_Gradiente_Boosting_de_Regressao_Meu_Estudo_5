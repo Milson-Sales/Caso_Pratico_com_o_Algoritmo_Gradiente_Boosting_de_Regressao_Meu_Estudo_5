{
  "nbformat": 4,
  "nbformat_minor": 0,
  "metadata": {
    "colab": {
      "name": "Caso prático GBM.ipynb",
      "provenance": []
    },
    "kernelspec": {
      "name": "python3",
      "display_name": "Python 3"
    },
    "language_info": {
      "name": "python"
    }
  },
  "cells": [
    {
      "cell_type": "code",
      "metadata": {
        "id": "7y25yDKiFlqP",
        "colab": {
          "base_uri": "https://localhost:8080/"
        },
        "outputId": "b1da755a-72b9-4006-bc1b-bc830e6e7ca1"
      },
      "source": [
        "# 1º Problema do negócio\n",
        "# Caso Prático GBM\n",
        "\n",
        "# Análise Exploratóriia dos Dados\n",
        "# Importando os Pacotes\n",
        "from sklearn import datasets\n",
        "from pandas import read_csv\n",
        "import pandas as pd\n",
        "from sklearn.preprocessing import StandardScaler\n",
        "from sklearn.model_selection import train_test_split\n",
        "from sklearn.pipeline import make_pipeline\n",
        "from sklearn.ensemble import GradientBoostingRegressor\n",
        "from sklearn.decomposition import PCA\n",
        "from sklearn.metrics import mean_squared_error\n",
        "\n",
        "# Carregando o Boston Dataset\n",
        "bhp = datasets.load_boston()\n",
        "\n",
        "# pré-processamento\n",
        "# Amostragem dos Dados em Treino e Teste\n",
        "X_train, X_test, y_train, y_test = train_test_split(bhp.data, bhp.target, random_state=7, test_size=0.1)\n",
        "\n",
        "# Padronização o dataset\n",
        "sc = StandardScaler()\n",
        "X_train_std = sc.fit_transform(X_train)\n",
        "X_test_std = sc.transform(X_test)\n",
        "\n",
        "# Turnando ou Calibrando os Hyperparameter for GradientBoostingRegressor\n",
        "gbr_params = {'n_estimators': 1000,\n",
        "              'max_depth': 3,\n",
        "              'min_samples_split': 5,\n",
        "              'learning_rate': 0.001,\n",
        "              }\n",
        "                            \n",
        "# Máquina Preditiva\n",
        "# Criando a Máquina Preditiva\n",
        "gbr = GradientBoostingRegressor(** gbr_params)\n",
        "\n",
        "# Treinando a MP\n",
        "gbr.fit(X_train_std, y_train)\n",
        "\n",
        "# Avaliando a MP com a MétricaR2(Coefficient of datermination R^2)\n",
        "print(\"Model Accuracy: %.3f\" % gbr.score(X_test_std, y_test))\n",
        "\n",
        "# Avaliando a MP\n",
        "# Avaliando a Métrica MSE(Create the mean squared error)\n",
        "mse = mean_squared_error(y_test, gbr.predict(X_test_std,))\n",
        "print(\"The mean squared error (MSE) on test set:{:.4f}\".format(mse))\n",
        "\n",
        "\n",
        "\n",
        "\n"
      ],
      "execution_count": 6,
      "outputs": [
        {
          "output_type": "stream",
          "name": "stdout",
          "text": [
            "Model Accuracy: 0.800\n",
            "The mean squared error (MSE) on test set:12.8347\n"
          ]
        }
      ]
    },
    {
      "cell_type": "code",
      "metadata": {
        "colab": {
          "base_uri": "https://localhost:8080/",
          "height": 231
        },
        "id": "DbXjAoZyJ1lR",
        "outputId": "d0e99521-8434-491a-c5c3-c64129fad5d5"
      },
      "source": [
        "# Avaliando a Importância das Variáveis com GBM\n",
        "import numpy as np\n",
        "import matplotlib.pyplot as plt\n",
        "from sklearn.inspection import permutation_importance\n",
        "\n",
        "# Get Feature importance data using feature_importances\n",
        "feature_importance = gbr.feature_importances_\n",
        "\n",
        "sorted_ind = np.argsot(feature_importance)\n",
        "pos = np.arange(sorted_idx.shape[0]) + .5\n",
        "fig = plt.figure(figsize=(8, 8))\n",
        "plt.barh(pos, feature_importance[sorted_idx], align= 'center')\n",
        "plt.yticks(pos, np.array(bhp.feature_names)[soreted_idx])\n",
        "plt.title('Feature Importance (GBM)')\n",
        "\n",
        "plt.show()"
      ],
      "execution_count": null,
      "outputs": [
        {
          "output_type": "error",
          "ename": "NameError",
          "evalue": "ignored",
          "traceback": [
            "\u001b[0;31m---------------------------------------------------------------------------\u001b[0m",
            "\u001b[0;31mNameError\u001b[0m                                 Traceback (most recent call last)",
            "\u001b[0;32m<ipython-input-35-026b6ed46446>\u001b[0m in \u001b[0;36m<module>\u001b[0;34m()\u001b[0m\n\u001b[1;32m      5\u001b[0m \u001b[0;34m\u001b[0m\u001b[0m\n\u001b[1;32m      6\u001b[0m \u001b[0;31m# Get Feature importance data using feature_importances\u001b[0m\u001b[0;34m\u001b[0m\u001b[0;34m\u001b[0m\u001b[0;34m\u001b[0m\u001b[0m\n\u001b[0;32m----> 7\u001b[0;31m \u001b[0mfeature_importance\u001b[0m \u001b[0;34m=\u001b[0m \u001b[0mgbr\u001b[0m\u001b[0;34m.\u001b[0m\u001b[0mfeature_importances_\u001b[0m\u001b[0;34m\u001b[0m\u001b[0;34m\u001b[0m\u001b[0m\n\u001b[0m\u001b[1;32m      8\u001b[0m \u001b[0;34m\u001b[0m\u001b[0m\n\u001b[1;32m      9\u001b[0m \u001b[0msorted_ind\u001b[0m \u001b[0;34m=\u001b[0m \u001b[0mnp\u001b[0m\u001b[0;34m.\u001b[0m\u001b[0margsot\u001b[0m\u001b[0;34m(\u001b[0m\u001b[0mfeature_importance\u001b[0m\u001b[0;34m)\u001b[0m\u001b[0;34m\u001b[0m\u001b[0;34m\u001b[0m\u001b[0m\n",
            "\u001b[0;31mNameError\u001b[0m: name 'gbr' is not defined"
          ]
        }
      ]
    }
  ]
}